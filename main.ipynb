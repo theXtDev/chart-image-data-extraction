{
 "cells": [
  {
   "cell_type": "markdown",
   "metadata": {},
   "source": [
    "#### Imports"
   ]
  },
  {
   "cell_type": "code",
   "execution_count": null,
   "metadata": {},
   "outputs": [],
   "source": [
    "import os\n",
    "import cv2\n",
    "import numpy as np\n",
    "import pandas as pd\n",
    "import matplotlib.pyplot as plt\n",
    "from tkinter import *\n",
    "from tkinter import filedialog\n",
    "from scipy.signal import lfilter\n",
    "from ipywidgets import interactive, widgets\n",
    "from IPython.display import display"
   ]
  },
  {
   "cell_type": "markdown",
   "metadata": {},
   "source": [
    "##### Functions and definitions"
   ]
  },
  {
   "cell_type": "code",
   "execution_count": 608,
   "metadata": {},
   "outputs": [],
   "source": [
    "def file_open_popup():\n",
    "    root = Tk()\n",
    "    root.withdraw()\n",
    "    root.wm_attributes('-topmost', 1)\n",
    "    currdir = os.getcwd()\n",
    "    path = filedialog.askopenfilename(parent=root, initialdir=currdir, title='Please select your chart')\n",
    "    return cv2.imread(path)[::-1,:,::-1]\n",
    "\n",
    "def boundary_selection_widgethelper(im, x_start_crop, y_start_crop, x_end_crop, y_end_crop):\n",
    "    plt.figure(figsize=(8 * im.shape[1] / im.shape[0], 8))\n",
    "    plt.imshow(im)\n",
    "    plt.axhline(y_start_crop * im.shape[0] / 100, c='r', linewidth=0.7)\n",
    "    plt.axhline((100 - y_end_crop) * im.shape[0] / 100, c='r', linewidth=0.7)\n",
    "    plt.axvline(x_start_crop * im.shape[1] / 100, c='r', linewidth=0.7)\n",
    "    plt.axvline((100 - x_end_crop) * im.shape[1] / 100, c='r', linewidth=0.7)\n",
    "    plt.gca().invert_yaxis()\n",
    "\n",
    "def crop_image(im, bounds):\n",
    "    x_origin = int(bounds.children[0]._trait_values['value'] * im.shape[1] / 100)\n",
    "    x_end =  int((100 - bounds.children[2]._trait_values['value']) * im.shape[1] / 100)\n",
    "    y_origin = int(bounds.children[1]._trait_values['value'] * im.shape[0] / 100)\n",
    "    y_end =  int((100 - bounds.children[3]._trait_values['value']) * im.shape[0] / 100)\n",
    "    return im[y_origin:y_end, x_origin:x_end]\n",
    "\n",
    "def find_contours(im, sensitivity):\n",
    "    img_gray = cv2.cvtColor(im, cv2.COLOR_BGR2GRAY)\n",
    "    _, img_gray = cv2.threshold(img_gray, (sensitivity) * 255, 255, cv2.THRESH_BINARY_INV)\n",
    "    contours, _  = cv2.findContours(img_gray, cv2.RETR_EXTERNAL, cv2.CHAIN_APPROX_SIMPLE)\n",
    "    return contours\n",
    "\n",
    "def draw_countours(im, to_draw , padding):\n",
    "    redrawed = np.zeros_like(cv2.cvtColor(im, cv2.COLOR_BGR2GRAY))\n",
    "    cv2.drawContours(redrawed, to_draw, -1, 255, 2)\n",
    "    for i in range(redrawed.shape[0]):\n",
    "        for j in range(redrawed.shape[1]):\n",
    "            if i < im.shape[0] * padding or j < im.shape[1] * padding or i > im.shape[0] * 0.99 or j > im.shape[1] * (1 - padding):\n",
    "                redrawed[i,j] = 0\n",
    "    return redrawed\n",
    "\n",
    "def digitize_data(imageData):\n",
    "    res = np.asarray(np.where(imageData == 255))\n",
    "    unqa, ID, counts = np.unique(res[1:], return_inverse = True, return_counts = True)\n",
    "    out = np.row_stack((unqa , np.bincount(ID, res[0,:]) / counts))\n",
    "    return out\n",
    "\n",
    "def step_bin(data, im_shape, x_range, y_range, step_size):  \n",
    "    xArr = data[0] / im_shape[1] * (x_range[1] - x_range[0])\n",
    "    yArr = data[1] / im_shape[0] * (y_range[1] - y_range[0]) + y_range[0]\n",
    "    xdat, Ids, counts = np.unique((xArr / step_size).astype(int), return_inverse = True, return_counts = True)    \n",
    "    ydat = np.bincount(Ids, yArr) / counts\n",
    "    out = np.array((xdat * step_size + x_range[0], ydat))\n",
    "    return out\n",
    "\n",
    "def smooth_data(data, windowSize):\n",
    "    step_size = data[0,1] - data[0,0]\n",
    "    windowSize = 1 if int(windowSize / step_size) < 1 else int(windowSize / step_size)\n",
    "    ncYArr = lfilter([1.0 / windowSize] * windowSize, 1, data[1])[int(windowSize/2):]\n",
    "    ncXArr = data[0][:-int(windowSize/2) if -int(windowSize/2) < 0 else data.shape[1]]\n",
    "    out = np.array((ncXArr, ncYArr))\n",
    "    return out\n",
    "    \n",
    "def im_show(im, fig_ratio):\n",
    "    plt.figure(figsize=(6 * fig_ratio, 6))\n",
    "    plt.imshow(im)\n",
    "    plt.gca().invert_yaxis()\n",
    "    plt.show()\n",
    "    \n",
    "def plot_data(cropped, redrawed, final_data, retouched_data):\n",
    "    _, ax = plt.subplots(3, 1, figsize=(6 * cropped.shape[1] / cropped.shape[0], 21))\n",
    "    ax[0].imshow(cropped)\n",
    "    ax[0].invert_yaxis()\n",
    "    ax[0].set_title('Cropping')\n",
    "    ax[1].imshow(cv2.cvtColor(redrawed, cv2.COLOR_GRAY2RGB))\n",
    "    ax[1].set_title('Isolation')\n",
    "    ax[1].invert_yaxis()\n",
    "    ax[2].set_title('Final result')\n",
    "    ax[2].plot(final_data[0], final_data[1], linewidth=3, alpha=0.7, linestyle=\"-\", c=\"r\", label='raw extracted data') \n",
    "    ax[2].plot(retouched_data[0], retouched_data[1], linewidth=0.9, linestyle=\"-\", c=\"black\", label='smoothed data') \n",
    "    ax[2].legend(loc='best')\n",
    "    plt.show()\n",
    "    \n",
    "def save_data(data, file_name, isCsv = False):\n",
    "    df = pd.DataFrame (data.T)\n",
    "    df.columns = ['x_axis', 'y_axis']\n",
    "    if isCsv:\n",
    "        df.to_csv(file_name + '.csv', index=False)\n",
    "    else :\n",
    "        df.to_excel(file_name + '.xlsx', index=False)\n"
   ]
  },
  {
   "cell_type": "markdown",
   "metadata": {},
   "source": [
    "##### Opening chart image and boundary adjustment"
   ]
  },
  {
   "cell_type": "code",
   "execution_count": 93,
   "metadata": {},
   "outputs": [
    {
     "name": "stdout",
     "output_type": "stream",
     "text": [
      "boundary data is saved in real time, after adjusting, no extra action is needed, just go to the next section\n"
     ]
    },
    {
     "data": {
      "application/vnd.jupyter.widget-view+json": {
       "model_id": "7336c6a00b8248108b95778b7a64ed7d",
       "version_major": 2,
       "version_minor": 0
      },
      "text/plain": [
       "interactive(children=(FloatSlider(value=10.0, description='x_start_crop', layout=Layout(width='50%'), max=25.0…"
      ]
     },
     "metadata": {},
     "output_type": "display_data"
    }
   ],
   "source": [
    "raw_image = file_open_popup()\n",
    "boundaries = interactive(boundary_selection_widgethelper, im = widgets.fixed(raw_image), \n",
    "                    x_start_crop = \n",
    "                        widgets.FloatSlider(value=10, min=0, max=25, step=0.01, layout=widgets.Layout(width='50%')),\n",
    "                    y_start_crop =  \n",
    "                        widgets.FloatSlider(value=10, min=0, max=25, step=0.1, layout=widgets.Layout(width='50%')),\n",
    "                    x_end_crop = \n",
    "                        widgets.FloatSlider(value=10, min=0, max=25, step=0.1, layout=widgets.Layout(width='50%')),\n",
    "                    y_end_crop =  \n",
    "                        widgets.FloatSlider(value=10, min=0, max=25, step=0.1, layout=widgets.Layout(width='50%')))\n",
    "# print('boundary data is saved in real time, after adjusting, no extra action is needed, just go to the next section')\n",
    "display (boundaries)"
   ]
  },
  {
   "cell_type": "markdown",
   "metadata": {},
   "source": [
    "##### Parameter configuration and script execution"
   ]
  },
  {
   "cell_type": "code",
   "execution_count": null,
   "metadata": {},
   "outputs": [],
   "source": [
    "# boundaries\n",
    "x_range = [360, 500]\n",
    "y_range = [0, 3]\n",
    "x_step_size = 0.1\n",
    "\n",
    "# padding, detection sensitivity and smoothing factor\n",
    "chart_padding = 0.01\n",
    "sensitivity = 0.7\n",
    "smoothing_factor = 3\n",
    "\n",
    "cropped_image = crop_image(raw_image, bounds = boundaries)\n",
    "contours = find_contours(cropped_image, sensitivity = sensitivity)\n",
    "redrawed = draw_countours(cropped_image, to_draw = contours, padding = chart_padding)\n",
    "digitized = digitize_data(redrawed)\n",
    "final_data = step_bin(digitized, cropped_image.shape, x_range, y_range, x_step_size)\n",
    "retouched_data = smooth_data(data = final_data, windowSize = smoothing_factor)\n",
    "plot_data(cropped_image, redrawed, final_data, retouched_data)"
   ]
  },
  {
   "cell_type": "markdown",
   "metadata": {},
   "source": [
    "##### Saving the output as excel file"
   ]
  },
  {
   "cell_type": "code",
   "execution_count": 622,
   "metadata": {},
   "outputs": [],
   "source": [
    "file_name = 'chart_out'\n",
    "data_to_save = final_data # you can save retouched_data if you want\n",
    "save_data(data_to_save, file_name, isCsv = False)"
   ]
  }
 ],
 "metadata": {
  "kernelspec": {
   "display_name": "Python 3.10.4 64-bit",
   "language": "python",
   "name": "python3"
  },
  "language_info": {
   "codemirror_mode": {
    "name": "ipython",
    "version": 3
   },
   "file_extension": ".py",
   "mimetype": "text/x-python",
   "name": "python",
   "nbconvert_exporter": "python",
   "pygments_lexer": "ipython3",
   "version": "3.10.4"
  },
  "orig_nbformat": 4,
  "vscode": {
   "interpreter": {
    "hash": "369f2c481f4da34e4445cda3fffd2e751bd1c4d706f27375911949ba6bb62e1c"
   }
  }
 },
 "nbformat": 4,
 "nbformat_minor": 2
}
